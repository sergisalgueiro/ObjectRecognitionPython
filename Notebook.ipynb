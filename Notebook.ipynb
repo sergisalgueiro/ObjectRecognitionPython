{
 "cells": [
  {
   "cell_type": "code",
   "execution_count": 1,
   "metadata": {},
   "outputs": [],
   "source": [
    "import numpy as np\n",
    "import argparse\n",
    "import cv2\n",
    "import matplotlib.pyplot as plt"
   ]
  },
  {
   "cell_type": "code",
   "execution_count": 2,
   "metadata": {},
   "outputs": [],
   "source": [
    "image = cv2.imread(r'C:\\Users\\salgueir\\Pictures/zucchini.jpg')\n",
    "# Convert Image to HSV color space\n",
    "im_channels = cv2.cvtColor(image, cv2.COLOR_BGR2HSV)\n",
    "im_channels = cv2.GaussianBlur(im_channels, (5, 5), 0)\n",
    "z = im_channels.reshape((-1, 3))\n",
    "z = np.float32(z)\n",
    "criteria = (cv2.TERM_CRITERIA_EPS + cv2.TERM_CRITERIA_MAX_ITER, 10, 1.0)\n",
    "k = 2\n",
    "ret, label, center = cv2.kmeans(z, k, None, criteria, 10, cv2.KMEANS_RANDOM_CENTERS)"
   ]
  },
  {
   "cell_type": "code",
   "execution_count": 3,
   "metadata": {},
   "outputs": [
    {
     "data": {
      "text/plain": [
       "dtype('uint8')"
      ]
     },
     "execution_count": 3,
     "metadata": {},
     "output_type": "execute_result"
    }
   ],
   "source": [
    "im_channels.dtype"
   ]
  },
  {
   "cell_type": "code",
   "execution_count": 4,
   "metadata": {},
   "outputs": [
    {
     "data": {
      "text/plain": [
       "array([[0],\n",
       "       [0],\n",
       "       [0],\n",
       "       ...,\n",
       "       [0],\n",
       "       [0],\n",
       "       [0]], dtype=int32)"
      ]
     },
     "execution_count": 4,
     "metadata": {},
     "output_type": "execute_result"
    }
   ],
   "source": [
    "label"
   ]
  },
  {
   "cell_type": "code",
   "execution_count": 5,
   "metadata": {},
   "outputs": [
    {
     "data": {
      "text/plain": [
       "(8838000, 3)"
      ]
     },
     "execution_count": 5,
     "metadata": {},
     "output_type": "execute_result"
    }
   ],
   "source": [
    "z.shape"
   ]
  },
  {
   "cell_type": "code",
   "execution_count": 6,
   "metadata": {},
   "outputs": [
    {
     "data": {
      "text/plain": [
       "(8838000, 1)"
      ]
     },
     "execution_count": 6,
     "metadata": {},
     "output_type": "execute_result"
    }
   ],
   "source": [
    "label.shape"
   ]
  },
  {
   "cell_type": "code",
   "execution_count": 7,
   "metadata": {},
   "outputs": [
    {
     "data": {
      "text/plain": [
       "array([[0, 0, 0, ..., 0, 0, 0],\n",
       "       [0, 0, 0, ..., 0, 0, 0],\n",
       "       [0, 0, 0, ..., 0, 0, 0],\n",
       "       ...,\n",
       "       [0, 0, 0, ..., 0, 0, 0],\n",
       "       [0, 0, 0, ..., 0, 0, 0],\n",
       "       [0, 0, 0, ..., 0, 0, 0]], dtype=int32)"
      ]
     },
     "execution_count": 7,
     "metadata": {},
     "output_type": "execute_result"
    }
   ],
   "source": [
    "label.reshape(im_channels.shape[:2])"
   ]
  },
  {
   "cell_type": "code",
   "execution_count": 8,
   "metadata": {},
   "outputs": [
    {
     "data": {
      "text/plain": [
       "array([1], dtype=int32)"
      ]
     },
     "execution_count": 8,
     "metadata": {},
     "output_type": "execute_result"
    }
   ],
   "source": [
    "max(label)"
   ]
  },
  {
   "cell_type": "code",
   "execution_count": 9,
   "metadata": {},
   "outputs": [
    {
     "data": {
      "text/plain": [
       "array([0, 0, 0, ..., 0, 0, 0], dtype=int32)"
      ]
     },
     "execution_count": 9,
     "metadata": {},
     "output_type": "execute_result"
    }
   ],
   "source": [
    "label.flatten()"
   ]
  },
  {
   "cell_type": "code",
   "execution_count": 10,
   "metadata": {},
   "outputs": [],
   "source": [
    "center = np.uint8(center)\n",
    "res = center[label.flatten()]\n",
    "res2 = res.reshape(im_channels.shape)"
   ]
  },
  {
   "cell_type": "code",
   "execution_count": 11,
   "metadata": {},
   "outputs": [
    {
     "data": {
      "text/plain": [
       "(8838000, 3)"
      ]
     },
     "execution_count": 11,
     "metadata": {},
     "output_type": "execute_result"
    }
   ],
   "source": [
    "res.shape"
   ]
  },
  {
   "cell_type": "raw",
   "metadata": {},
   "source": [
    "res"
   ]
  },
  {
   "cell_type": "code",
   "execution_count": 12,
   "metadata": {},
   "outputs": [
    {
     "data": {
      "text/plain": [
       "(2946, 3000, 3)"
      ]
     },
     "execution_count": 12,
     "metadata": {},
     "output_type": "execute_result"
    }
   ],
   "source": [
    "res2.shape"
   ]
  },
  {
   "cell_type": "code",
   "execution_count": 13,
   "metadata": {},
   "outputs": [
    {
     "data": {
      "text/plain": [
       "(2946, 3000, 3)"
      ]
     },
     "execution_count": 13,
     "metadata": {},
     "output_type": "execute_result"
    }
   ],
   "source": [
    "im_channels.shape"
   ]
  },
  {
   "cell_type": "code",
   "execution_count": 14,
   "metadata": {},
   "outputs": [],
   "source": [
    "v2d = label.reshape(im_channels.shape[:2])"
   ]
  },
  {
   "cell_type": "code",
   "execution_count": 15,
   "metadata": {},
   "outputs": [
    {
     "data": {
      "text/plain": [
       "(2946, 3000)"
      ]
     },
     "execution_count": 15,
     "metadata": {},
     "output_type": "execute_result"
    }
   ],
   "source": [
    "v2d.shape"
   ]
  },
  {
   "cell_type": "code",
   "execution_count": 16,
   "metadata": {},
   "outputs": [
    {
     "data": {
      "text/plain": [
       "22860005092.538338"
      ]
     },
     "execution_count": 16,
     "metadata": {},
     "output_type": "execute_result"
    }
   ],
   "source": [
    "ret"
   ]
  },
  {
   "cell_type": "code",
   "execution_count": 17,
   "metadata": {},
   "outputs": [],
   "source": [
    "ar = np.where(v2d == 0)"
   ]
  },
  {
   "cell_type": "code",
   "execution_count": 18,
   "metadata": {},
   "outputs": [
    {
     "name": "stdout",
     "output_type": "stream",
     "text": [
      "2945 0\n"
     ]
    }
   ],
   "source": [
    "print(max(ar[0]), min(ar[0]))"
   ]
  },
  {
   "cell_type": "code",
   "execution_count": 19,
   "metadata": {},
   "outputs": [
    {
     "name": "stdout",
     "output_type": "stream",
     "text": [
      "2999 0\n"
     ]
    }
   ],
   "source": [
    "print(max(ar[1]), min(ar[1]))"
   ]
  },
  {
   "cell_type": "code",
   "execution_count": 20,
   "metadata": {},
   "outputs": [
    {
     "data": {
      "image/png": "[encoded data removed]",
      "text/plain": [
       "<Figure size 432x288 with 1 Axes>"
      ]
     },
     "metadata": {
      "needs_background": "light"
     },
     "output_type": "display_data"
    }
   ],
   "source": [
    "fig = plt.figure()\n",
    "plt.imshow(v2d)\n",
    "plt.show()"
   ]
  },
  {
   "cell_type": "code",
   "execution_count": 21,
   "metadata": {},
   "outputs": [],
   "source": [
    "def erosion(img, kernel_size, iterations):\n",
    "\tkernel = np.ones((kernel_size, kernel_size), np.uint8)\n",
    "\terosion = cv2.erode(img, kernel, iterations=iterations)\n",
    "\treturn erosion"
   ]
  },
  {
   "cell_type": "code",
   "execution_count": 22,
   "metadata": {},
   "outputs": [
    {
     "name": "stdout",
     "output_type": "stream",
     "text": [
      "(2946, 3000)\n",
      "uint8\n"
     ]
    }
   ],
   "source": [
    "v2d2 = np.uint8(v2d)\n",
    "print(v2d2.shape)\n",
    "print(v2d2.dtype)"
   ]
  },
  {
   "cell_type": "code",
   "execution_count": 23,
   "metadata": {},
   "outputs": [
    {
     "name": "stdout",
     "output_type": "stream",
     "text": [
      "(2946, 3000)\n",
      "uint8\n"
     ]
    }
   ],
   "source": [
    "print(im_channels[:,:,2].shape)\n",
    "print(im_channels[:,:,2].dtype)"
   ]
  },
  {
   "cell_type": "code",
   "execution_count": 24,
   "metadata": {},
   "outputs": [],
   "source": [
    "v2d2_eroded = erosion(v2d2, 25, 1)"
   ]
  },
  {
   "cell_type": "code",
   "execution_count": 25,
   "metadata": {},
   "outputs": [
    {
     "data": {
      "image/png": "[encoded data removed]",
      "text/plain": [
       "<Figure size 432x288 with 1 Axes>"
      ]
     },
     "metadata": {
      "needs_background": "light"
     },
     "output_type": "display_data"
    }
   ],
   "source": [
    "fig = plt.figure()\n",
    "plt.imshow(v2d2_eroded)\n",
    "plt.show()"
   ]
  },
  {
   "cell_type": "code",
   "execution_count": 26,
   "metadata": {},
   "outputs": [
    {
     "data": {
      "image/png": "[encoded data removed]",
      "text/plain": [
       "<Figure size 432x288 with 1 Axes>"
      ]
     },
     "metadata": {
      "needs_background": "light"
     },
     "output_type": "display_data"
    }
   ],
   "source": [
    "kernel_size = 50\n",
    "kernel = np.ones((kernel_size, kernel_size), np.uint8)\n",
    "v2d2_oc = cv2.morphologyEx(v2d2, cv2.MORPH_OPEN, kernel)\n",
    "v2d2_oc = cv2.morphologyEx(v2d2_oc, cv2.MORPH_CLOSE, kernel)\n",
    "fig = plt.figure()\n",
    "plt.imshow(v2d2_oc)\n",
    "plt.show()"
   ]
  },
  {
   "cell_type": "code",
   "execution_count": 27,
   "metadata": {},
   "outputs": [
    {
     "data": {
      "image/png": "[encoded data removed]",
      "text/plain": [
       "<Figure size 432x288 with 1 Axes>"
      ]
     },
     "metadata": {
      "needs_background": "light"
     },
     "output_type": "display_data"
    }
   ],
   "source": [
    "kernel_size = 100\n",
    "kernel = np.ones((kernel_size, kernel_size), np.uint8)\n",
    "v2d2_co = cv2.morphologyEx(v2d2_oc, cv2.MORPH_CLOSE, kernel)\n",
    "v2d2_co = cv2.morphologyEx(v2d2_co, cv2.MORPH_OPEN, kernel)\n",
    "fig = plt.figure()\n",
    "plt.imshow(v2d2_co)\n",
    "plt.show()"
   ]
  },
  {
   "cell_type": "code",
   "execution_count": 28,
   "metadata": {},
   "outputs": [
    {
     "data": {
      "text/plain": [
       "1"
      ]
     },
     "execution_count": 28,
     "metadata": {},
     "output_type": "execute_result"
    }
   ],
   "source": [
    "v2d2_oc[2000, 1000]"
   ]
  },
  {
   "cell_type": "code",
   "execution_count": 29,
   "metadata": {},
   "outputs": [
    {
     "data": {
      "text/plain": [
       "(8838000, 1)"
      ]
     },
     "execution_count": 29,
     "metadata": {},
     "output_type": "execute_result"
    }
   ],
   "source": [
    "label.shape"
   ]
  },
  {
   "cell_type": "code",
   "execution_count": 30,
   "metadata": {},
   "outputs": [],
   "source": [
    "indices = np.nonzero(v2d == 1)"
   ]
  },
  {
   "cell_type": "code",
   "execution_count": 31,
   "metadata": {},
   "outputs": [
    {
     "data": {
      "text/plain": [
       "2686756"
      ]
     },
     "execution_count": 31,
     "metadata": {},
     "output_type": "execute_result"
    }
   ],
   "source": [
    "len(indices[0])"
   ]
  },
  {
   "cell_type": "code",
   "execution_count": null,
   "metadata": {},
   "outputs": [],
   "source": []
  },
  {
   "cell_type": "raw",
   "metadata": {},
   "source": [
    "### Connected components"
   ]
  },
  {
   "cell_type": "code",
   "execution_count": 32,
   "metadata": {},
   "outputs": [],
   "source": [
    "nlabels, labels, stats, centroids = cv2.connectedComponentsWithStats(v2d2_co)"
   ]
  },
  {
   "cell_type": "code",
   "execution_count": 33,
   "metadata": {},
   "outputs": [
    {
     "data": {
      "text/plain": [
       "2"
      ]
     },
     "execution_count": 33,
     "metadata": {},
     "output_type": "execute_result"
    }
   ],
   "source": [
    "nlabels"
   ]
  },
  {
   "cell_type": "code",
   "execution_count": 34,
   "metadata": {},
   "outputs": [
    {
     "data": {
      "text/plain": [
       "array([[0, 0, 0, ..., 0, 0, 0],\n",
       "       [0, 0, 0, ..., 0, 0, 0],\n",
       "       [0, 0, 0, ..., 0, 0, 0],\n",
       "       ...,\n",
       "       [0, 0, 0, ..., 0, 0, 0],\n",
       "       [0, 0, 0, ..., 0, 0, 0],\n",
       "       [0, 0, 0, ..., 0, 0, 0]], dtype=int32)"
      ]
     },
     "execution_count": 34,
     "metadata": {},
     "output_type": "execute_result"
    }
   ],
   "source": [
    "labels"
   ]
  },
  {
   "cell_type": "code",
   "execution_count": 35,
   "metadata": {},
   "outputs": [
    {
     "data": {
      "text/plain": [
       "array([[      0,       0,    3000,    2946, 6339329],\n",
       "       [    758,     389,    1657,    2420, 2498671]], dtype=int32)"
      ]
     },
     "execution_count": 35,
     "metadata": {},
     "output_type": "execute_result"
    }
   ],
   "source": [
    "stats"
   ]
  },
  {
   "cell_type": "code",
   "execution_count": 36,
   "metadata": {},
   "outputs": [
    {
     "data": {
      "text/plain": [
       "array([[1493.0480371 , 1403.78822711],\n",
       "       [1515.86914804, 1646.82728619]])"
      ]
     },
     "execution_count": 36,
     "metadata": {},
     "output_type": "execute_result"
    }
   ],
   "source": [
    "centroids"
   ]
  },
  {
   "cell_type": "code",
   "execution_count": 37,
   "metadata": {},
   "outputs": [
    {
     "data": {
      "text/plain": [
       "array([6339329, 2498671], dtype=int32)"
      ]
     },
     "execution_count": 37,
     "metadata": {},
     "output_type": "execute_result"
    }
   ],
   "source": [
    "stats[:, cv2.CC_STAT_AREA]"
   ]
  },
  {
   "cell_type": "code",
   "execution_count": 38,
   "metadata": {},
   "outputs": [],
   "source": [
    "area_order = np.sort(stats[:, cv2.CC_STAT_AREA])"
   ]
  },
  {
   "cell_type": "code",
   "execution_count": 39,
   "metadata": {},
   "outputs": [
    {
     "data": {
      "text/plain": [
       "2498671"
      ]
     },
     "execution_count": 39,
     "metadata": {},
     "output_type": "execute_result"
    }
   ],
   "source": [
    "area_order[-2]"
   ]
  },
  {
   "cell_type": "code",
   "execution_count": 40,
   "metadata": {},
   "outputs": [
    {
     "name": "stdout",
     "output_type": "stream",
     "text": [
      "2498671\n"
     ]
    }
   ],
   "source": [
    "area_value_kernel = np.sort(stats[:, cv2.CC_STAT_AREA])[-2]\n",
    "print(area_value_kernel)"
   ]
  },
  {
   "cell_type": "code",
   "execution_count": 41,
   "metadata": {},
   "outputs": [
    {
     "data": {
      "text/plain": [
       "array([[[    758,     389,    1657,    2420, 2498671]]], dtype=int32)"
      ]
     },
     "execution_count": 41,
     "metadata": {},
     "output_type": "execute_result"
    }
   ],
   "source": [
    "stats[np.where(stats[:, cv2.CC_STAT_AREA] == area_value_kernel), :]"
   ]
  },
  {
   "cell_type": "code",
   "execution_count": 42,
   "metadata": {},
   "outputs": [
    {
     "data": {
      "text/plain": [
       "array([    758,     389,    1657,    2420, 2498671], dtype=int32)"
      ]
     },
     "execution_count": 42,
     "metadata": {},
     "output_type": "execute_result"
    }
   ],
   "source": [
    "stats[np.where(stats[:, cv2.CC_STAT_AREA] == area_value_kernel), :].flatten()"
   ]
  },
  {
   "cell_type": "code",
   "execution_count": 43,
   "metadata": {},
   "outputs": [],
   "source": [
    "bb = stats[np.where(stats[:, cv2.CC_STAT_AREA] == area_value_kernel), :].flatten()"
   ]
  },
  {
   "cell_type": "code",
   "execution_count": 44,
   "metadata": {},
   "outputs": [
    {
     "data": {
      "text/plain": [
       "(758, 389)"
      ]
     },
     "execution_count": 44,
     "metadata": {},
     "output_type": "execute_result"
    }
   ],
   "source": [
    "tuple(bb[[cv2.CC_STAT_LEFT, cv2.CC_STAT_TOP]])"
   ]
  },
  {
   "cell_type": "code",
   "execution_count": 45,
   "metadata": {},
   "outputs": [
    {
     "data": {
      "text/plain": [
       "array([    758,     389,    1657,    2420, 2498671], dtype=int32)"
      ]
     },
     "execution_count": 45,
     "metadata": {},
     "output_type": "execute_result"
    }
   ],
   "source": [
    "bb.reshape(5)"
   ]
  },
  {
   "cell_type": "code",
   "execution_count": 46,
   "metadata": {},
   "outputs": [
    {
     "data": {
      "text/plain": [
       "array([    758,     389,    1657,    2420, 2498671], dtype=int32)"
      ]
     },
     "execution_count": 46,
     "metadata": {},
     "output_type": "execute_result"
    }
   ],
   "source": [
    "bb.flatten()"
   ]
  },
  {
   "cell_type": "code",
   "execution_count": 47,
   "metadata": {},
   "outputs": [
    {
     "data": {
      "text/plain": [
       "array([2415, 2809], dtype=int32)"
      ]
     },
     "execution_count": 47,
     "metadata": {},
     "output_type": "execute_result"
    }
   ],
   "source": [
    "bb[[cv2.CC_STAT_LEFT, cv2.CC_STAT_TOP]] + bb[[cv2.CC_STAT_WIDTH, cv2.CC_STAT_HEIGHT]]"
   ]
  },
  {
   "cell_type": "markdown",
   "metadata": {},
   "source": [
    "## Peak"
   ]
  },
  {
   "cell_type": "code",
   "execution_count": 48,
   "metadata": {},
   "outputs": [],
   "source": [
    "import cv2\n",
    "import numpy as np\n",
    "# Read image\n",
    "image = cv2.imread(r'C:\\Users\\salgueir\\Pictures/zucchini.jpg')\n",
    "# Resize image\n",
    "image = cv2.resize(image, (224, 224))\n",
    "# Convert Image to HSV color space\n",
    "im_channels = cv2.cvtColor(image, cv2.COLOR_BGR2HSV)\n",
    "im_channels = cv2.GaussianBlur(im_channels, (5, 5), 0)"
   ]
  },
  {
   "cell_type": "code",
   "execution_count": 49,
   "metadata": {},
   "outputs": [],
   "source": [
    "def hist3d(img, intervals):\n",
    "\tspace = np.linspace(0, 1, intervals+1)\n",
    "\th3d = np.zeros((intervals, intervals, intervals))\n",
    "\tfor n in range(img.shape[0]):\n",
    "\t\tfor m in range(img.shape[1]):\n",
    "\t\t\ttmpVal1 = img[n, m, 0]\n",
    "\t\t\ttmpVal2 = img[n, m, 1]\n",
    "\t\t\ttmpVal3 = img[n, m, 2]\n",
    "\t\t\tidxVal1 = 0\n",
    "\t\t\tidxVal2 = 0\n",
    "\t\t\tidxVal3 = 0\n",
    "\t\t\tfor i in range(intervals):\n",
    "\t\t\t\tif i == intervals:\n",
    "\t\t\t\t\tif ((tmpVal1 >= space[i]) and (tmpVal1 <= space[i+1])):\n",
    "\t\t\t\t\t\tidxVal1 = i\n",
    "\t\t\t\t\t\tbreak\n",
    "\t\t\t\telse:\n",
    "\t\t\t\t\tif ((tmpVal1 >= space[i]) and (tmpVal1 < space[i+1])):\n",
    "\t\t\t\t\t\tidxVal1 = i\n",
    "\t\t\t\t\t\tbreak\n",
    "\t\t\tfor i in range(intervals):\n",
    "\t\t\t\tif i == intervals:\n",
    "\t\t\t\t\tif ((tmpVal2 >= space[i]) and (tmpVal2 <= space[i+1])):\n",
    "\t\t\t\t\t\tidxVal2 = i\n",
    "\t\t\t\t\t\tbreak\n",
    "\t\t\t\telse:\n",
    "\t\t\t\t\tif ((tmpVal2 >= space[i]) and (tmpVal2 < space[i+1])):\n",
    "\t\t\t\t\t\tidxVal2 = i\n",
    "\t\t\t\t\t\tbreak\n",
    "\t\t\tfor i in range(intervals):\n",
    "\t\t\t\tif i == intervals:\n",
    "\t\t\t\t\tif ((tmpVal3 >= space[i]) and (tmpVal3 <= space[i+1])):\n",
    "\t\t\t\t\t\tidxVal3 = i\n",
    "\t\t\t\t\t\tbreak\n",
    "\t\t\t\telse:\n",
    "\t\t\t\t\tif ((tmpVal3 >= space[i]) and (tmpVal3 < space[i+1])):\n",
    "\t\t\t\t\t\tidxVal3 = i\n",
    "\t\t\t\t\t\tbreak\n",
    "\t\t\th3d[idxVal1, idxVal2, idxVal3] = h3d[idxVal1, idxVal2, idxVal3] + 1\n",
    "\treturn h3d"
   ]
  },
  {
   "cell_type": "code",
   "execution_count": 50,
   "metadata": {},
   "outputs": [],
   "source": [
    "def normalizeHSV(rawHSV):\n",
    "\t# For HSV, Hue range is [0,179], Saturation range is [0,255] and Value range is [0,255].\n",
    "\tnormalized = np.empty(rawHSV.shape)\n",
    "\tnormalized[:, :, 0] = rawHSV[:, :, 0]/179.0\n",
    "\tnormalized[:, :, 1] = rawHSV[:, :, 1]/255.0\n",
    "\tnormalized[:, :, 2] = rawHSV[:, :, 2]/255.0\n",
    "\treturn normalized"
   ]
  },
  {
   "cell_type": "code",
   "execution_count": 51,
   "metadata": {},
   "outputs": [],
   "source": [
    "def findPeak4D(h3d, width):\n",
    "    peaks = np.empty((0,4),int)\n",
    "    for i in range(width,h3d.shape[0]-width):\n",
    "        for j in range(width,h3d.shape[1]-width):\n",
    "            for k in range(width,h3d.shape[2]-width):\n",
    "                pattern = h3d[i-width:i+width+1,j-width:j+width+1,k-width:k+width+1]\n",
    "                val = 6*pattern[1,1,1] - pattern[1,1,0] - pattern[1,1,2] - pattern[0,1,1] - pattern[1,0,1] -pattern[1,2,1] - pattern[2,1,1]\n",
    "                # Afegir que el valor maxim sigui al pla mitj\n",
    "                if val>0:\n",
    "                    peaks = np.vstack((peaks,[i,j,k,val]))\n",
    "    return peaks"
   ]
  },
  {
   "cell_type": "code",
   "execution_count": 52,
   "metadata": {},
   "outputs": [],
   "source": [
    "im_norm = normalizeHSV(im_channels)"
   ]
  },
  {
   "cell_type": "code",
   "execution_count": 53,
   "metadata": {},
   "outputs": [],
   "source": [
    "h3d = hist3d(im_norm, 15)"
   ]
  },
  {
   "cell_type": "code",
   "execution_count": 54,
   "metadata": {},
   "outputs": [
    {
     "data": {
      "text/plain": [
       "(15, 15, 15)"
      ]
     },
     "execution_count": 54,
     "metadata": {},
     "output_type": "execute_result"
    }
   ],
   "source": [
    "h3d.shape"
   ]
  },
  {
   "cell_type": "code",
   "execution_count": 55,
   "metadata": {},
   "outputs": [],
   "source": [
    "p4d = findPeak4D(h3d, 5)"
   ]
  },
  {
   "cell_type": "code",
   "execution_count": 56,
   "metadata": {},
   "outputs": [
    {
     "data": {
      "text/plain": [
       "(28, 4)"
      ]
     },
     "execution_count": 56,
     "metadata": {},
     "output_type": "execute_result"
    }
   ],
   "source": [
    "p4d.shape"
   ]
  },
  {
   "cell_type": "code",
   "execution_count": 57,
   "metadata": {},
   "outputs": [
    {
     "name": "stdout",
     "output_type": "stream",
     "text": [
      "[[  5.   5.   8. 128.]\n",
      " [  5.   5.   9.   9.]\n",
      " [  5.   6.   7.  24.]\n",
      " [  5.   7.   7.   6.]\n",
      " [  5.   7.   8.  12.]\n",
      " [  5.   8.   5.  58.]\n",
      " [  5.   8.   8.   3.]\n",
      " [  5.   9.   7.   3.]\n",
      " [  5.   9.   9.  98.]\n",
      " [  6.   5.   8.  68.]\n",
      " [  6.   5.   9.  18.]\n",
      " [  6.   6.   7.   3.]\n",
      " [  6.   8.   6.   4.]\n",
      " [  6.   8.   7.   2.]\n",
      " [  6.   9.   7.   4.]\n",
      " [  7.   6.   7.   9.]\n",
      " [  7.   7.   6.   4.]\n",
      " [  7.   8.   6.   4.]\n",
      " [  8.   6.   9.  12.]\n",
      " [  8.   7.   6.   5.]\n",
      " [  8.   7.   8.   3.]\n",
      " [  8.   7.   9.  26.]\n",
      " [  8.   8.   8.   5.]\n",
      " [  8.   8.   9.  27.]\n",
      " [  8.   9.   9.  26.]\n",
      " [  9.   6.   9.   6.]\n",
      " [  9.   7.   9.  38.]\n",
      " [  9.   8.   8.   6.]]\n"
     ]
    }
   ],
   "source": [
    "print(p4d)"
   ]
  },
  {
   "cell_type": "code",
   "execution_count": 58,
   "metadata": {},
   "outputs": [],
   "source": [
    "criteria = (cv2.TERM_CRITERIA_EPS + cv2.TERM_CRITERIA_MAX_ITER, 10, 1.0)\n",
    "k = len(p4d)\n",
    "# Sort every channel in a single column\n",
    "z = im_channels.reshape((-1, 3))\n",
    "# convert to np.float32\n",
    "z = np.float32(z)\n",
    "ret, label, center = cv2.kmeans(z, k, None, criteria, 10, cv2.KMEANS_RANDOM_CENTERS)"
   ]
  },
  {
   "cell_type": "code",
   "execution_count": 59,
   "metadata": {},
   "outputs": [],
   "source": [
    "# Now convert back into uint8, and make original image\n",
    "center = np.uint8(center)\n",
    "res = center[label.flatten()]"
   ]
  },
  {
   "cell_type": "code",
   "execution_count": 60,
   "metadata": {},
   "outputs": [],
   "source": [
    "res2 = res.reshape(im_channels.shape)"
   ]
  },
  {
   "cell_type": "code",
   "execution_count": 61,
   "metadata": {},
   "outputs": [
    {
     "data": {
      "image/png": "[encoded data removed]",
      "text/plain": [
       "<Figure size 432x288 with 2 Axes>"
      ]
     },
     "metadata": {
      "needs_background": "light"
     },
     "output_type": "display_data"
    }
   ],
   "source": [
    "import matplotlib.pyplot as plt\n",
    "fig, (ax1, ax2) = plt.subplots(1, 2)\n",
    "ax1.imshow(cv2.cvtColor(image, cv2.COLOR_BGR2RGB))\n",
    "ax2.imshow(res2)\n",
    "plt.show()"
   ]
  },
  {
   "cell_type": "code",
   "execution_count": 62,
   "metadata": {},
   "outputs": [
    {
     "data": {
      "text/plain": [
       "(50176, 1)"
      ]
     },
     "execution_count": 62,
     "metadata": {},
     "output_type": "execute_result"
    }
   ],
   "source": [
    "label.shape"
   ]
  },
  {
   "cell_type": "code",
   "execution_count": 63,
   "metadata": {},
   "outputs": [
    {
     "data": {
      "text/plain": [
       "array([ 40.772583, 249.62427 ,  45.411236], dtype=float32)"
      ]
     },
     "execution_count": 63,
     "metadata": {},
     "output_type": "execute_result"
    }
   ],
   "source": [
    "z[label.flatten() == 0].mean(axis=0)"
   ]
  },
  {
   "cell_type": "code",
   "execution_count": 64,
   "metadata": {},
   "outputs": [
    {
     "data": {
      "text/plain": [
       "40.772583"
      ]
     },
     "execution_count": 64,
     "metadata": {},
     "output_type": "execute_result"
    }
   ],
   "source": [
    "z[label.flatten() == 0,0].mean()"
   ]
  },
  {
   "cell_type": "code",
   "execution_count": 65,
   "metadata": {},
   "outputs": [],
   "source": [
    "sensitivity = 20\n",
    "lower_green = np.array([60 - sensitivity,100,100])\n",
    "upper_green = np.array([60 + sensitivity,255,255])\n",
    "cluster_mean = np.ndarray((k, 3))\n",
    "for i in range(k):\n",
    "    cluster_mean[i] = z[label.flatten() == i].mean(axis=0)\n",
    "# mask = cv2.inRange(cluster_mean, lower_green, upper_green)\n",
    "# plt.imshow(mask)\n",
    "# plt.show()"
   ]
  },
  {
   "cell_type": "code",
   "execution_count": 66,
   "metadata": {},
   "outputs": [],
   "source": [
    "def in_range(clusters, lower, upper):\n",
    "\tres = np.logical_and(np.logical_and(lower[0] <= clusters[:, 0],  clusters[:, 0] <= upper[0]),\n",
    "\t\t\t\t\t\t np.logical_and(lower[1] <= clusters[:, 1],  clusters[:, 1] <= upper[1]),\n",
    "\t\t\t\t\t\t np.logical_and(lower[2] <= clusters[:, 2],  clusters[:, 2] <= upper[2]))\n",
    "\treturn res"
   ]
  },
  {
   "cell_type": "code",
   "execution_count": 67,
   "metadata": {},
   "outputs": [],
   "source": [
    "green_clus = in_range(cluster_mean, lower_green, upper_green)"
   ]
  },
  {
   "cell_type": "code",
   "execution_count": 68,
   "metadata": {},
   "outputs": [
    {
     "data": {
      "text/plain": [
       "array([[ 40.77258301, 249.62426758,  45.41123581],\n",
       "       [ 41.046875  , 216.105896  ,  98.89583588],\n",
       "       [ 25.01668358, 217.87382507, 147.42909241],\n",
       "       [ 39.37172699, 174.42932129,  15.14659691],\n",
       "       [ 45.69804764, 179.22203064,  76.61101532],\n",
       "       [ 16.79715919, 165.53947449, 182.36108398],\n",
       "       [ 15.65199566, 143.99378967, 202.80020142],\n",
       "       [ 27.23248291, 248.9052124 , 115.57414246],\n",
       "       [ 57.44332123, 248.55378723,  22.04548645],\n",
       "       [ 44.62963104, 141.52909851,  82.46031952],\n",
       "       [ 52.54707336,  16.22646332,  97.76589966],\n",
       "       [ 16.63333893, 101.38811493, 234.75332642],\n",
       "       [ 38.59417725, 181.73117065, 121.39726257],\n",
       "       [ 46.13265228,  92.65816498,  99.40816498],\n",
       "       [ 43.59589005, 128.15068054,  98.04109955],\n",
       "       [ 42.30252075,  55.94677734, 120.65546417],\n",
       "       [ 15.93497944, 126.05471802, 215.50196838],\n",
       "       [ 43.87943649, 248.00663757,  81.93048859],\n",
       "       [ 33.79807663, 125.46154022, 120.6442337 ],\n",
       "       [  4.47115374,  17.625     ,   0.80769229],\n",
       "       [ 50.64136124,  27.51047134, 167.3507843 ],\n",
       "       [ 22.27118683,  85.0338974 ,   8.61016941],\n",
       "       [ 41.66176605,  96.85294342, 137.58824158],\n",
       "       [ 18.11666679,  82.95333099, 105.62000275],\n",
       "       [ 29.9881897 , 143.27755737, 153.07479858],\n",
       "       [ 16.69034004,  69.17613983, 239.01893616],\n",
       "       [ 23.94499969, 113.48200226, 191.2749939 ],\n",
       "       [ 21.37936783, 184.91036987, 159.08117676]])"
      ]
     },
     "execution_count": 68,
     "metadata": {},
     "output_type": "execute_result"
    }
   ],
   "source": [
    "cluster_mean"
   ]
  },
  {
   "cell_type": "code",
   "execution_count": 69,
   "metadata": {},
   "outputs": [
    {
     "data": {
      "text/plain": [
       "array([ True,  True, False, False,  True, False, False, False,  True,\n",
       "        True, False, False, False, False,  True, False, False,  True,\n",
       "       False, False, False, False, False, False, False, False, False,\n",
       "       False])"
      ]
     },
     "execution_count": 69,
     "metadata": {},
     "output_type": "execute_result"
    }
   ],
   "source": [
    "green_clus"
   ]
  },
  {
   "cell_type": "code",
   "execution_count": 70,
   "metadata": {},
   "outputs": [],
   "source": [
    "idx = np.nonzero(green_clus)"
   ]
  },
  {
   "cell_type": "code",
   "execution_count": 71,
   "metadata": {},
   "outputs": [
    {
     "data": {
      "text/plain": [
       "(array([ 0,  1,  4,  8,  9, 14, 17], dtype=int64),)"
      ]
     },
     "execution_count": 71,
     "metadata": {},
     "output_type": "execute_result"
    }
   ],
   "source": [
    "idx"
   ]
  },
  {
   "cell_type": "code",
   "execution_count": 72,
   "metadata": {},
   "outputs": [
    {
     "data": {
      "text/plain": [
       "array([10, 10, 10, ..., 25, 25, 25], dtype=int32)"
      ]
     },
     "execution_count": 72,
     "metadata": {},
     "output_type": "execute_result"
    }
   ],
   "source": [
    "label.flatten()"
   ]
  },
  {
   "cell_type": "code",
   "execution_count": 73,
   "metadata": {},
   "outputs": [],
   "source": [
    "mask = np.isin(label.flatten(), idx)"
   ]
  },
  {
   "cell_type": "code",
   "execution_count": 74,
   "metadata": {},
   "outputs": [],
   "source": [
    "bin_im = mask.reshape((224, 224))"
   ]
  },
  {
   "cell_type": "code",
   "execution_count": 75,
   "metadata": {
    "scrolled": true
   },
   "outputs": [
    {
     "data": {
      "image/png": "[encoded data removed]",
      "text/plain": [
       "<Figure size 432x288 with 1 Axes>"
      ]
     },
     "metadata": {
      "needs_background": "light"
     },
     "output_type": "display_data"
    }
   ],
   "source": [
    "plt.imshow(bin_im)\n",
    "plt.show()"
   ]
  },
  {
   "cell_type": "markdown",
   "metadata": {},
   "source": [
    "### Peak choosing"
   ]
  },
  {
   "cell_type": "code",
   "execution_count": 110,
   "metadata": {},
   "outputs": [],
   "source": [
    "import cv2\n",
    "import numpy as np\n",
    "image = cv2.imread(r'C:\\Users\\salgueir\\Pictures/zucchini.jpg')\n",
    "# image = cv2.imread(img_path)\n",
    "# Resize image\n",
    "image = cv2.resize(image, (224,224))\n",
    "# Convert Image to HSV color space\n",
    "im_channels = cv2.cvtColor(image, cv2.COLOR_BGR2HSV)\n",
    "# Apply Gaussian blur\n",
    "im_channels = cv2.GaussianBlur(im_channels, (5, 5), 0)\n",
    "\n",
    "im_norm = normalizeHSV(im_channels)\n",
    "h3d = hist3d(im_norm, 25)\n",
    "p4d = findPeak4D(h3d, 5)"
   ]
  },
  {
   "cell_type": "code",
   "execution_count": 111,
   "metadata": {},
   "outputs": [
    {
     "data": {
      "text/plain": [
       "571.0"
      ]
     },
     "execution_count": 111,
     "metadata": {},
     "output_type": "execute_result"
    }
   ],
   "source": [
    "max(p4d[:,3])"
   ]
  },
  {
   "cell_type": "code",
   "execution_count": 112,
   "metadata": {},
   "outputs": [
    {
     "name": "stdout",
     "output_type": "stream",
     "text": [
      "[[  6.  11.  14. 571.]\n",
      " [ 10.   7.  17. 219.]\n",
      " [  6.  10.  15. 199.]\n",
      " ...\n",
      " [  8.   7.  11.   1.]\n",
      " [ 10.  13.  17.   1.]\n",
      " [  6.  13.  13.   1.]]\n"
     ]
    }
   ],
   "source": [
    "peaks3d = p4d\n",
    "count = 0\n",
    "peaks = peaks3d[peaks3d[:, 3].argsort()[::-1]]\n",
    "print(peaks[:,:10])\n",
    "clustThresh = 50\n",
    "peakMask = np.ones(peaks.shape[0], dtype=bool)\n",
    "oldMask = peakMask"
   ]
  },
  {
   "cell_type": "code",
   "execution_count": 113,
   "metadata": {},
   "outputs": [
    {
     "name": "stdout",
     "output_type": "stream",
     "text": [
      "coords\n",
      "[ 6. 11. 14.]\n",
      "coords\n",
      "[10.  7. 17.]\n",
      "coords\n",
      "[10. 10. 15.]\n",
      "coords\n",
      "[10. 19. 11.]\n",
      "coords\n",
      "[10. 12. 14.]\n",
      "coords\n",
      "[ 9. 17. 12.]\n",
      "coords\n",
      "[ 8.  5. 14.]\n",
      "coords\n",
      "[ 6. 14. 12.]\n",
      "coords\n",
      "[ 9. 15. 13.]\n"
     ]
    }
   ],
   "source": [
    "while True:\n",
    "    if count == 0:\n",
    "        peakMask = np.ones(peaks.shape[0], dtype=bool)\n",
    "    else:\n",
    "        peakMask = np.bitwise_or(np.bitwise_or(peaks[:, 0]  > (coords[0] + 1), peaks[:, 0] < (coords[0] - 1)),\n",
    "                                np.bitwise_or(peaks[:, 1]  > (coords[1] + 1), peaks[:, 1] < (coords[1] - 1)),\n",
    "                                np.bitwise_or(peaks[:, 2]  > (coords[2] + 1), peaks[:, 2] < (coords[2] - 1)))\n",
    "        peakMask = np.bitwise_and(peakMask, oldMask)\n",
    "    newpeaks = peaks[peakMask, :]\n",
    "    clustVal = newpeaks[:,3].max()\n",
    "    if clustVal < clustThresh:\n",
    "        break\n",
    "    coords = newpeaks[0, :3] #s i el primer es el mes alt...\n",
    "    print('coords')\n",
    "    print(coords)\n",
    "    if count == 0:\n",
    "        clustCoords = coords\n",
    "    else:\n",
    "        clustCoords = np.vstack((clustCoords, coords))\n",
    "    oldMask = peakMask\n",
    "    oldClustVal = clustVal\n",
    "    count += 1"
   ]
  },
  {
   "cell_type": "code",
   "execution_count": 103,
   "metadata": {},
   "outputs": [
    {
     "name": "stdout",
     "output_type": "stream",
     "text": [
      "[False  True False False  True  True  True  True  True False False  True\n",
      "  True  True  True  True False  True  True  True  True  True  True  True\n",
      " False False  True  True False  True  True False  True False  True  True\n",
      " False False False  True False  True False False  True  True  True  True\n",
      "  True  True False  True False False  True  True False  True  True  True\n",
      "  True  True False False False False False False False  True False False\n",
      "  True False  True False  True False  True False  True  True  True False\n",
      "  True  True False False  True False  True False False False False  True\n",
      "  True False False  True  True False  True  True False  True  True  True\n",
      "  True False False  True  True False  True  True False  True  True False\n",
      "  True  True  True False  True  True False False  True  True  True False\n",
      " False  True  True  True False  True  True False  True False False False\n",
      "  True False  True  True  True  True False False  True False False False\n",
      " False False False  True  True False  True False False  True False  True\n",
      "  True  True False  True False False False False False  True False  True\n",
      " False False False  True  True False False False False False False  True\n",
      "  True  True False  True  True False False  True False False  True False\n",
      "  True False False  True False False  True  True False False  True  True\n",
      " False False  True False False False  True  True  True False  True  True\n",
      " False  True  True  True False  True  True False  True False False False\n",
      " False False  True False  True  True  True  True  True False  True False\n",
      "  True  True  True  True  True False  True  True  True False]\n"
     ]
    }
   ],
   "source": [
    "pMask = np.bitwise_and(np.bitwise_or(peaks[:, 0]  > (coords[0] + 1), peaks[:, 0] < (coords[0] - 1)),\n",
    "np.bitwise_or(peaks[:, 1]  > (coords[1] + 1), peaks[:, 1] < (coords[1] - 1)),\n",
    "np.bitwise_or(peaks[:, 2]  > (coords[2] + 1), peaks[:, 2] < (coords[2] - 1)))\n",
    "\n",
    "pMask = np.bitwise_and(pMask, oMask)\n",
    "print(pMask)"
   ]
  },
  {
   "cell_type": "code",
   "execution_count": 101,
   "metadata": {},
   "outputs": [
    {
     "name": "stdout",
     "output_type": "stream",
     "text": [
      "571.0 50\n",
      "coords\n",
      "[ 6. 11. 14.]\n"
     ]
    }
   ],
   "source": [
    "newpeaks = peaks[pMask, :]\n",
    "clustVal = newpeaks[:,3].max()\n",
    "print(clustVal, clustThresh)\n",
    "coords = newpeaks[0, :3] #s i el primer es el mes alt...\n",
    "print('coords')\n",
    "print(coords)"
   ]
  },
  {
   "cell_type": "code",
   "execution_count": 102,
   "metadata": {},
   "outputs": [
    {
     "name": "stdout",
     "output_type": "stream",
     "text": [
      "[ True  True  True  True  True  True  True  True  True  True  True  True\n",
      "  True  True  True  True  True  True  True  True  True  True  True  True\n",
      "  True  True  True  True  True  True  True  True  True  True  True  True\n",
      "  True  True  True  True  True  True  True  True  True  True  True  True\n",
      "  True  True  True  True  True  True  True  True  True  True  True  True\n",
      "  True  True  True  True  True  True  True  True  True  True  True  True\n",
      "  True  True  True  True  True  True  True  True  True  True  True  True\n",
      "  True  True  True  True  True  True  True  True  True  True  True  True\n",
      "  True  True  True  True  True  True  True  True  True  True  True  True\n",
      "  True  True  True  True  True  True  True  True  True  True  True  True\n",
      "  True  True  True  True  True  True  True  True  True  True  True  True\n",
      "  True  True  True  True  True  True  True  True  True  True  True  True\n",
      "  True  True  True  True  True  True  True  True  True  True  True  True\n",
      "  True  True  True  True  True  True  True  True  True  True  True  True\n",
      "  True  True  True  True  True  True  True  True  True  True  True  True\n",
      "  True  True  True  True  True  True  True  True  True  True  True  True\n",
      "  True  True  True  True  True  True  True  True  True  True  True  True\n",
      "  True  True  True  True  True  True  True  True  True  True  True  True\n",
      "  True  True  True  True  True  True  True  True  True  True  True  True\n",
      "  True  True  True  True  True  True  True  True  True  True  True  True\n",
      "  True  True  True  True  True  True  True  True  True  True  True  True\n",
      "  True  True  True  True  True  True  True  True  True  True]\n"
     ]
    }
   ],
   "source": [
    "oMask = pMask\n",
    "print(oMask)"
   ]
  },
  {
   "cell_type": "code",
   "execution_count": 87,
   "metadata": {},
   "outputs": [
    {
     "data": {
      "text/plain": [
       "array([[  6.,  11.,  14., 571.],\n",
       "       [ 10.,   7.,  17., 219.],\n",
       "       [  6.,  10.,  15., 199.],\n",
       "       [ 10.,  10.,  15., 196.],\n",
       "       [ 10.,   9.,  16., 185.],\n",
       "       [ 10.,   8.,  16., 176.],\n",
       "       [ 10.,  19.,  11., 121.],\n",
       "       [ 10.,   7.,  18., 121.],\n",
       "       [ 10.,  19.,  12., 110.],\n",
       "       [ 10.,  12.,  14., 106.]])"
      ]
     },
     "execution_count": 87,
     "metadata": {},
     "output_type": "execute_result"
    }
   ],
   "source": [
    "peaks[:10,:]"
   ]
  },
  {
   "cell_type": "code",
   "execution_count": 107,
   "metadata": {},
   "outputs": [
    {
     "data": {
      "text/plain": [
       "True"
      ]
     },
     "execution_count": 107,
     "metadata": {},
     "output_type": "execute_result"
    }
   ],
   "source": [
    "np.bitwise_or(peaks[3, 0]  > (coords[0] + 1), peaks[3, 0] < (coords[0] - 1))"
   ]
  },
  {
   "cell_type": "code",
   "execution_count": 114,
   "metadata": {},
   "outputs": [
    {
     "data": {
      "text/plain": [
       "41.0"
      ]
     },
     "execution_count": 114,
     "metadata": {},
     "output_type": "execute_result"
    }
   ],
   "source": [
    "clustVal"
   ]
  },
  {
   "cell_type": "code",
   "execution_count": 109,
   "metadata": {},
   "outputs": [
    {
     "name": "stdout",
     "output_type": "stream",
     "text": [
      "10.0 6.0\n",
      "10.0 11.0\n",
      "15.0 14.0\n"
     ]
    }
   ],
   "source": [
    "print (peaks[3, 0], coords[0])\n",
    "print (peaks[3, 1], coords[1])\n",
    "print (peaks[3, 2], coords[2])"
   ]
  },
  {
   "cell_type": "code",
   "execution_count": null,
   "metadata": {},
   "outputs": [],
   "source": []
  }
 ],
 "metadata": {
  "kernelspec": {
   "display_name": "Python 3",
   "language": "python",
   "name": "python3"
  },
  "language_info": {
   "codemirror_mode": {
    "name": "ipython",
    "version": 3
   },
   "file_extension": ".py",
   "mimetype": "text/x-python",
   "name": "python",
   "nbconvert_exporter": "python",
   "pygments_lexer": "ipython3",
   "version": "3.7.3"
  }
 },
 "nbformat": 4,
 "nbformat_minor": 2
}
